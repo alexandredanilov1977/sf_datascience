{
 "cells": [
  {
   "cell_type": "markdown",
   "metadata": {},
   "source": [
    "# Цель проекта"
   ]
  },
  {
   "cell_type": "markdown",
   "metadata": {},
   "source": [
    "Для построения модели зависимости успеваемости учащихся по математике от условий их жизни из имеющихся данных выбрать факторы, которые должны стать параметрами будущей модели."
   ]
  },
  {
   "cell_type": "markdown",
   "metadata": {},
   "source": [
    "# Загрузка данных"
   ]
  },
  {
   "cell_type": "code",
   "execution_count": 1,
   "metadata": {},
   "outputs": [],
   "source": [
    "import pandas as pd\n",
    "import matplotlib.pyplot as plt\n",
    "import seaborn as sns\n",
    "import collections\n",
    "from itertools import combinations\n",
    "from scipy.stats import ttest_ind\n",
    "%matplotlib inline\n",
    "\n",
    "pd.set_option('display.max_rows', 50)\n",
    "pd.set_option('display.max_columns', 50)\n",
    "\n",
    "stud_math = pd.read_csv('stud_math.csv')"
   ]
  },
  {
   "cell_type": "markdown",
   "metadata": {},
   "source": [
    "# 1. Первичная обработка данных"
   ]
  },
  {
   "cell_type": "code",
   "execution_count": 2,
   "metadata": {},
   "outputs": [
    {
     "data": {
      "text/plain": [
       "(395, 30)"
      ]
     },
     "execution_count": 2,
     "metadata": {},
     "output_type": "execute_result"
    }
   ],
   "source": [
    "stud_math.shape"
   ]
  },
  {
   "cell_type": "code",
   "execution_count": 3,
   "metadata": {},
   "outputs": [
    {
     "data": {
      "text/html": [
       "<div>\n",
       "<style scoped>\n",
       "    .dataframe tbody tr th:only-of-type {\n",
       "        vertical-align: middle;\n",
       "    }\n",
       "\n",
       "    .dataframe tbody tr th {\n",
       "        vertical-align: top;\n",
       "    }\n",
       "\n",
       "    .dataframe thead th {\n",
       "        text-align: right;\n",
       "    }\n",
       "</style>\n",
       "<table border=\"1\" class=\"dataframe\">\n",
       "  <thead>\n",
       "    <tr style=\"text-align: right;\">\n",
       "      <th></th>\n",
       "      <th>school</th>\n",
       "      <th>sex</th>\n",
       "      <th>age</th>\n",
       "      <th>address</th>\n",
       "      <th>famsize</th>\n",
       "      <th>Pstatus</th>\n",
       "      <th>Medu</th>\n",
       "      <th>Fedu</th>\n",
       "      <th>Mjob</th>\n",
       "      <th>Fjob</th>\n",
       "      <th>reason</th>\n",
       "      <th>guardian</th>\n",
       "      <th>traveltime</th>\n",
       "      <th>studytime</th>\n",
       "      <th>failures</th>\n",
       "      <th>schoolsup</th>\n",
       "      <th>famsup</th>\n",
       "      <th>paid</th>\n",
       "      <th>activities</th>\n",
       "      <th>nursery</th>\n",
       "      <th>studytime, granular</th>\n",
       "      <th>higher</th>\n",
       "      <th>internet</th>\n",
       "      <th>romantic</th>\n",
       "      <th>famrel</th>\n",
       "      <th>freetime</th>\n",
       "      <th>goout</th>\n",
       "      <th>health</th>\n",
       "      <th>absences</th>\n",
       "      <th>score</th>\n",
       "    </tr>\n",
       "  </thead>\n",
       "  <tbody>\n",
       "    <tr>\n",
       "      <th>0</th>\n",
       "      <td>GP</td>\n",
       "      <td>F</td>\n",
       "      <td>18</td>\n",
       "      <td>U</td>\n",
       "      <td>NaN</td>\n",
       "      <td>A</td>\n",
       "      <td>4.0</td>\n",
       "      <td>4.0</td>\n",
       "      <td>at_home</td>\n",
       "      <td>teacher</td>\n",
       "      <td>course</td>\n",
       "      <td>mother</td>\n",
       "      <td>2.0</td>\n",
       "      <td>2.0</td>\n",
       "      <td>0.0</td>\n",
       "      <td>yes</td>\n",
       "      <td>no</td>\n",
       "      <td>no</td>\n",
       "      <td>no</td>\n",
       "      <td>yes</td>\n",
       "      <td>-6.0</td>\n",
       "      <td>yes</td>\n",
       "      <td>NaN</td>\n",
       "      <td>no</td>\n",
       "      <td>4.0</td>\n",
       "      <td>3.0</td>\n",
       "      <td>4.0</td>\n",
       "      <td>3.0</td>\n",
       "      <td>6.0</td>\n",
       "      <td>30.0</td>\n",
       "    </tr>\n",
       "    <tr>\n",
       "      <th>1</th>\n",
       "      <td>GP</td>\n",
       "      <td>F</td>\n",
       "      <td>17</td>\n",
       "      <td>U</td>\n",
       "      <td>GT3</td>\n",
       "      <td>NaN</td>\n",
       "      <td>1.0</td>\n",
       "      <td>1.0</td>\n",
       "      <td>at_home</td>\n",
       "      <td>other</td>\n",
       "      <td>course</td>\n",
       "      <td>father</td>\n",
       "      <td>1.0</td>\n",
       "      <td>2.0</td>\n",
       "      <td>0.0</td>\n",
       "      <td>no</td>\n",
       "      <td>yes</td>\n",
       "      <td>no</td>\n",
       "      <td>no</td>\n",
       "      <td>no</td>\n",
       "      <td>-6.0</td>\n",
       "      <td>yes</td>\n",
       "      <td>yes</td>\n",
       "      <td>no</td>\n",
       "      <td>5.0</td>\n",
       "      <td>3.0</td>\n",
       "      <td>3.0</td>\n",
       "      <td>3.0</td>\n",
       "      <td>4.0</td>\n",
       "      <td>30.0</td>\n",
       "    </tr>\n",
       "    <tr>\n",
       "      <th>2</th>\n",
       "      <td>GP</td>\n",
       "      <td>F</td>\n",
       "      <td>15</td>\n",
       "      <td>U</td>\n",
       "      <td>LE3</td>\n",
       "      <td>T</td>\n",
       "      <td>1.0</td>\n",
       "      <td>1.0</td>\n",
       "      <td>at_home</td>\n",
       "      <td>other</td>\n",
       "      <td>other</td>\n",
       "      <td>mother</td>\n",
       "      <td>1.0</td>\n",
       "      <td>2.0</td>\n",
       "      <td>3.0</td>\n",
       "      <td>yes</td>\n",
       "      <td>no</td>\n",
       "      <td>NaN</td>\n",
       "      <td>no</td>\n",
       "      <td>yes</td>\n",
       "      <td>-6.0</td>\n",
       "      <td>yes</td>\n",
       "      <td>yes</td>\n",
       "      <td>NaN</td>\n",
       "      <td>4.0</td>\n",
       "      <td>3.0</td>\n",
       "      <td>2.0</td>\n",
       "      <td>3.0</td>\n",
       "      <td>10.0</td>\n",
       "      <td>50.0</td>\n",
       "    </tr>\n",
       "    <tr>\n",
       "      <th>3</th>\n",
       "      <td>GP</td>\n",
       "      <td>F</td>\n",
       "      <td>15</td>\n",
       "      <td>U</td>\n",
       "      <td>GT3</td>\n",
       "      <td>T</td>\n",
       "      <td>4.0</td>\n",
       "      <td>2.0</td>\n",
       "      <td>health</td>\n",
       "      <td>NaN</td>\n",
       "      <td>home</td>\n",
       "      <td>mother</td>\n",
       "      <td>1.0</td>\n",
       "      <td>3.0</td>\n",
       "      <td>0.0</td>\n",
       "      <td>no</td>\n",
       "      <td>yes</td>\n",
       "      <td>yes</td>\n",
       "      <td>yes</td>\n",
       "      <td>yes</td>\n",
       "      <td>-9.0</td>\n",
       "      <td>yes</td>\n",
       "      <td>yes</td>\n",
       "      <td>yes</td>\n",
       "      <td>3.0</td>\n",
       "      <td>2.0</td>\n",
       "      <td>2.0</td>\n",
       "      <td>5.0</td>\n",
       "      <td>2.0</td>\n",
       "      <td>75.0</td>\n",
       "    </tr>\n",
       "    <tr>\n",
       "      <th>4</th>\n",
       "      <td>GP</td>\n",
       "      <td>F</td>\n",
       "      <td>16</td>\n",
       "      <td>U</td>\n",
       "      <td>GT3</td>\n",
       "      <td>T</td>\n",
       "      <td>3.0</td>\n",
       "      <td>3.0</td>\n",
       "      <td>other</td>\n",
       "      <td>other</td>\n",
       "      <td>home</td>\n",
       "      <td>father</td>\n",
       "      <td>1.0</td>\n",
       "      <td>2.0</td>\n",
       "      <td>0.0</td>\n",
       "      <td>no</td>\n",
       "      <td>yes</td>\n",
       "      <td>yes</td>\n",
       "      <td>no</td>\n",
       "      <td>yes</td>\n",
       "      <td>-6.0</td>\n",
       "      <td>yes</td>\n",
       "      <td>no</td>\n",
       "      <td>no</td>\n",
       "      <td>4.0</td>\n",
       "      <td>3.0</td>\n",
       "      <td>2.0</td>\n",
       "      <td>5.0</td>\n",
       "      <td>4.0</td>\n",
       "      <td>50.0</td>\n",
       "    </tr>\n",
       "  </tbody>\n",
       "</table>\n",
       "</div>"
      ],
      "text/plain": [
       "  school sex  age address famsize Pstatus  Medu  Fedu     Mjob     Fjob  \\\n",
       "0     GP   F   18       U     NaN       A   4.0   4.0  at_home  teacher   \n",
       "1     GP   F   17       U     GT3     NaN   1.0   1.0  at_home    other   \n",
       "2     GP   F   15       U     LE3       T   1.0   1.0  at_home    other   \n",
       "3     GP   F   15       U     GT3       T   4.0   2.0   health      NaN   \n",
       "4     GP   F   16       U     GT3       T   3.0   3.0    other    other   \n",
       "\n",
       "   reason guardian  traveltime  studytime  failures schoolsup famsup paid  \\\n",
       "0  course   mother         2.0        2.0       0.0       yes     no   no   \n",
       "1  course   father         1.0        2.0       0.0        no    yes   no   \n",
       "2   other   mother         1.0        2.0       3.0       yes     no  NaN   \n",
       "3    home   mother         1.0        3.0       0.0        no    yes  yes   \n",
       "4    home   father         1.0        2.0       0.0        no    yes  yes   \n",
       "\n",
       "  activities nursery  studytime, granular higher internet romantic  famrel  \\\n",
       "0         no     yes                 -6.0    yes      NaN       no     4.0   \n",
       "1         no      no                 -6.0    yes      yes       no     5.0   \n",
       "2         no     yes                 -6.0    yes      yes      NaN     4.0   \n",
       "3        yes     yes                 -9.0    yes      yes      yes     3.0   \n",
       "4         no     yes                 -6.0    yes       no       no     4.0   \n",
       "\n",
       "   freetime  goout  health  absences  score  \n",
       "0       3.0    4.0     3.0       6.0   30.0  \n",
       "1       3.0    3.0     3.0       4.0   30.0  \n",
       "2       3.0    2.0     3.0      10.0   50.0  \n",
       "3       2.0    2.0     5.0       2.0   75.0  \n",
       "4       3.0    2.0     5.0       4.0   50.0  "
      ]
     },
     "execution_count": 3,
     "metadata": {},
     "output_type": "execute_result"
    }
   ],
   "source": [
    "stud_math.head()"
   ]
  },
  {
   "cell_type": "code",
   "execution_count": 4,
   "metadata": {},
   "outputs": [
    {
     "data": {
      "text/plain": [
       "Index(['school', 'sex', 'age', 'address', 'famsize', 'Pstatus', 'Medu', 'Fedu',\n",
       "       'Mjob', 'Fjob', 'reason', 'guardian', 'traveltime', 'studytime',\n",
       "       'failures', 'schoolsup', 'famsup', 'paid', 'activities', 'nursery',\n",
       "       'studytime, granular', 'higher', 'internet', 'romantic', 'famrel',\n",
       "       'freetime', 'goout', 'health', 'absences', 'score'],\n",
       "      dtype='object')"
      ]
     },
     "execution_count": 4,
     "metadata": {},
     "output_type": "execute_result"
    }
   ],
   "source": [
    "stud_math.columns"
   ]
  },
  {
   "cell_type": "code",
   "execution_count": 5,
   "metadata": {},
   "outputs": [],
   "source": [
    "# Удалим лишний столбец \"studytime, granular\" (не включен в аннотацию) и столбец \"school\", так как он не нужен при анализе\n",
    "stud_math.drop(columns=['studytime, granular', 'school'], axis='column', inplace=True)"
   ]
  },
  {
   "cell_type": "code",
   "execution_count": 6,
   "metadata": {},
   "outputs": [
    {
     "name": "stdout",
     "output_type": "stream",
     "text": [
      "<class 'pandas.core.frame.DataFrame'>\n",
      "RangeIndex: 395 entries, 0 to 394\n",
      "Data columns (total 28 columns):\n",
      " #   Column      Non-Null Count  Dtype  \n",
      "---  ------      --------------  -----  \n",
      " 0   sex         395 non-null    object \n",
      " 1   age         395 non-null    int64  \n",
      " 2   address     378 non-null    object \n",
      " 3   famsize     368 non-null    object \n",
      " 4   Pstatus     350 non-null    object \n",
      " 5   Medu        392 non-null    float64\n",
      " 6   Fedu        371 non-null    float64\n",
      " 7   Mjob        376 non-null    object \n",
      " 8   Fjob        359 non-null    object \n",
      " 9   reason      378 non-null    object \n",
      " 10  guardian    364 non-null    object \n",
      " 11  traveltime  367 non-null    float64\n",
      " 12  studytime   388 non-null    float64\n",
      " 13  failures    373 non-null    float64\n",
      " 14  schoolsup   386 non-null    object \n",
      " 15  famsup      356 non-null    object \n",
      " 16  paid        355 non-null    object \n",
      " 17  activities  381 non-null    object \n",
      " 18  nursery     379 non-null    object \n",
      " 19  higher      375 non-null    object \n",
      " 20  internet    361 non-null    object \n",
      " 21  romantic    364 non-null    object \n",
      " 22  famrel      368 non-null    float64\n",
      " 23  freetime    384 non-null    float64\n",
      " 24  goout       387 non-null    float64\n",
      " 25  health      380 non-null    float64\n",
      " 26  absences    383 non-null    float64\n",
      " 27  score       389 non-null    float64\n",
      "dtypes: float64(11), int64(1), object(16)\n",
      "memory usage: 86.5+ KB\n"
     ]
    }
   ],
   "source": [
    "stud_math.info()"
   ]
  },
  {
   "cell_type": "code",
   "execution_count": 7,
   "metadata": {},
   "outputs": [],
   "source": [
    "# Удаляем записи, у которых не определен столбец \"score\", для модели такие записи будут бесполезны\n",
    "stud_math.drop(stud_math[pd.isnull(stud_math['score'])].index, axis='index', inplace=True)"
   ]
  },
  {
   "cell_type": "code",
   "execution_count": 8,
   "metadata": {},
   "outputs": [
    {
     "data": {
      "text/plain": [
       "(389, 28)"
      ]
     },
     "execution_count": 8,
     "metadata": {},
     "output_type": "execute_result"
    }
   ],
   "source": [
    "stud_math.shape"
   ]
  },
  {
   "cell_type": "markdown",
   "metadata": {},
   "source": [
    "Наш набор содержит три вида данных:\n",
    "- номинальные (\"sex\", \"address\", \"famsize\", \"Pstatus \", \"Mjob\", \"Fjob\", \"reason\", \"guardian\", \"schoolsup\", \"famsup\",\n",
    "               \"paid\", \"activities\", \"nursery\", \"higher\", \"internet\", \"romantic\")\n",
    "- порядковые (\"Medu\", \"Fedu\", \"traveltime\", \"studytime\", \"famrel\", \"freetime\", \"goout\", \"health\")\n",
    "- непрерывные (\"age\", \"failures\", \"absences\", \"score\")"
   ]
  },
  {
   "cell_type": "code",
   "execution_count": 9,
   "metadata": {},
   "outputs": [
    {
     "data": {
      "text/plain": [
       "0      NaN\n",
       "1      NaN\n",
       "2      3.0\n",
       "3      NaN\n",
       "4      NaN\n",
       "      ... \n",
       "390    2.0\n",
       "391    NaN\n",
       "392    3.0\n",
       "393    NaN\n",
       "394    NaN\n",
       "Name: failures, Length: 389, dtype: float64"
      ]
     },
     "execution_count": 9,
     "metadata": {},
     "output_type": "execute_result"
    }
   ],
   "source": [
    "# Судя по условию, в столбце \"failures\" данные можно использовать только при 1<=n<=3, так как n=0 и n=4+ данные попадут\n",
    "# в одну группу n=0, поэтому присвоим всем ячейками с n=0 значение Null, чтобы исключить их из анализа\n",
    "stud_math['failures'].apply(lambda x: None if x == 0 else x)"
   ]
  },
  {
   "cell_type": "markdown",
   "metadata": {},
   "source": [
    "Проанализируем каждую переменную отдельно"
   ]
  },
  {
   "cell_type": "code",
   "execution_count": 10,
   "metadata": {},
   "outputs": [],
   "source": [
    "# Функция дает краткое описание каждого номинального столбца\n",
    "def describe_object_columns(column):\n",
    "    if stud_math[column].dtype == 'object':\n",
    "        # Преобразуем пустые ячейки в Null\n",
    "        stud_math[column].apply(lambda x: None if (x == 'NaN' or x == '') else x)\n",
    "        print(f'Столбец {column}')\n",
    "        print()\n",
    "        # Количество уникальных значений аналитик\n",
    "        print(\n",
    "            f'Всего уникальных значений признака: {stud_math[column].unique().size}')\n",
    "        # Количество значений каждой аналитики\n",
    "        display(stud_math[column].value_counts())\n",
    "        # Количество значений Null\n",
    "        print(\n",
    "            f'Пустых значений: {stud_math.loc[pd.isnull(stud_math[column])][column].size}')\n",
    "        # Графическое отображение количества каждой аналитики\n",
    "        stud_math[column].value_counts().plot(kind='bar')\n",
    "        plt.show()\n",
    "\n",
    "        print()\n",
    "        print()"
   ]
  },
  {
   "cell_type": "code",
   "execution_count": 11,
   "metadata": {},
   "outputs": [
    {
     "name": "stdout",
     "output_type": "stream",
     "text": [
      "Столбец sex\n",
      "\n",
      "Всего уникальных значений признака: 2\n"
     ]
    },
    {
     "data": {
      "text/plain": [
       "F    204\n",
       "M    185\n",
       "Name: sex, dtype: int64"
      ]
     },
     "metadata": {},
     "output_type": "display_data"
    },
    {
     "name": "stdout",
     "output_type": "stream",
     "text": [
      "Пустых значений: 0\n"
     ]
    },
    {
     "data": {
      "image/png": "[encoded data removed]",
      "text/plain": [
       "<Figure size 432x288 with 1 Axes>"
      ]
     },
     "metadata": {
      "needs_background": "light"
     },
     "output_type": "display_data"
    },
    {
     "name": "stdout",
     "output_type": "stream",
     "text": [
      "\n",
      "\n",
      "Столбец address\n",
      "\n",
      "Всего уникальных значений признака: 3\n"
     ]
    },
    {
     "data": {
      "text/plain": [
       "U    291\n",
       "R     83\n",
       "Name: address, dtype: int64"
      ]
     },
     "metadata": {},
     "output_type": "display_data"
    },
    {
     "name": "stdout",
     "output_type": "stream",
     "text": [
      "Пустых значений: 15\n"
     ]
    },
    {
     "data": {
      "image/png": "[encoded data removed]",
      "text/plain": [
       "<Figure size 432x288 with 1 Axes>"
      ]
     },
     "metadata": {
      "needs_background": "light"
     },
     "output_type": "display_data"
    },
    {
     "name": "stdout",
     "output_type": "stream",
     "text": [
      "\n",
      "\n",
      "Столбец famsize\n",
      "\n",
      "Всего уникальных значений признака: 3\n"
     ]
    },
    {
     "data": {
      "text/plain": [
       "GT3    255\n",
       "LE3    107\n",
       "Name: famsize, dtype: int64"
      ]
     },
     "metadata": {},
     "output_type": "display_data"
    },
    {
     "name": "stdout",
     "output_type": "stream",
     "text": [
      "Пустых значений: 27\n"
     ]
    },
    {
     "data": {
      "image/png": "[encoded data removed]",
      "text/plain": [
       "<Figure size 432x288 with 1 Axes>"
      ]
     },
     "metadata": {
      "needs_background": "light"
     },
     "output_type": "display_data"
    },
    {
     "name": "stdout",
     "output_type": "stream",
     "text": [
      "\n",
      "\n",
      "Столбец Pstatus\n",
      "\n",
      "Всего уникальных значений признака: 3\n"
     ]
    },
    {
     "data": {
      "text/plain": [
       "T    308\n",
       "A     36\n",
       "Name: Pstatus, dtype: int64"
      ]
     },
     "metadata": {},
     "output_type": "display_data"
    },
    {
     "name": "stdout",
     "output_type": "stream",
     "text": [
      "Пустых значений: 45\n"
     ]
    },
    {
     "data": {
      "image/png": "[encoded data removed]",
      "text/plain": [
       "<Figure size 432x288 with 1 Axes>"
      ]
     },
     "metadata": {
      "needs_background": "light"
     },
     "output_type": "display_data"
    },
    {
     "name": "stdout",
     "output_type": "stream",
     "text": [
      "\n",
      "\n",
      "Столбец Mjob\n",
      "\n",
      "Всего уникальных значений признака: 6\n"
     ]
    },
    {
     "data": {
      "text/plain": [
       "other       127\n",
       "services     98\n",
       "at_home      58\n",
       "teacher      55\n",
       "health       32\n",
       "Name: Mjob, dtype: int64"
      ]
     },
     "metadata": {},
     "output_type": "display_data"
    },
    {
     "name": "stdout",
     "output_type": "stream",
     "text": [
      "Пустых значений: 19\n"
     ]
    },
    {
     "data": {
      "image/png": "[encoded data removed]",
      "text/plain": [
       "<Figure size 432x288 with 1 Axes>"
      ]
     },
     "metadata": {
      "needs_background": "light"
     },
     "output_type": "display_data"
    },
    {
     "name": "stdout",
     "output_type": "stream",
     "text": [
      "\n",
      "\n",
      "Столбец Fjob\n",
      "\n",
      "Всего уникальных значений признака: 6\n"
     ]
    },
    {
     "data": {
      "text/plain": [
       "other       194\n",
       "services     99\n",
       "teacher      29\n",
       "at_home      16\n",
       "health       15\n",
       "Name: Fjob, dtype: int64"
      ]
     },
     "metadata": {},
     "output_type": "display_data"
    },
    {
     "name": "stdout",
     "output_type": "stream",
     "text": [
      "Пустых значений: 36\n"
     ]
    },
    {
     "data": {
      "image/png": "[encoded data removed]",
      "text/plain": [
       "<Figure size 432x288 with 1 Axes>"
      ]
     },
     "metadata": {
      "needs_background": "light"
     },
     "output_type": "display_data"
    },
    {
     "name": "stdout",
     "output_type": "stream",
     "text": [
      "\n",
      "\n",
      "Столбец reason\n",
      "\n",
      "Всего уникальных значений признака: 5\n"
     ]
    },
    {
     "data": {
      "text/plain": [
       "course        135\n",
       "reputation    102\n",
       "home          101\n",
       "other          34\n",
       "Name: reason, dtype: int64"
      ]
     },
     "metadata": {},
     "output_type": "display_data"
    },
    {
     "name": "stdout",
     "output_type": "stream",
     "text": [
      "Пустых значений: 17\n"
     ]
    },
    {
     "data": {
      "image/png": "[encoded data removed]",
      "text/plain": [
       "<Figure size 432x288 with 1 Axes>"
      ]
     },
     "metadata": {
      "needs_background": "light"
     },
     "output_type": "display_data"
    },
    {
     "name": "stdout",
     "output_type": "stream",
     "text": [
      "\n",
      "\n",
      "Столбец guardian\n",
      "\n",
      "Всего уникальных значений признака: 4\n"
     ]
    },
    {
     "data": {
      "text/plain": [
       "mother    248\n",
       "father     86\n",
       "other      24\n",
       "Name: guardian, dtype: int64"
      ]
     },
     "metadata": {},
     "output_type": "display_data"
    },
    {
     "name": "stdout",
     "output_type": "stream",
     "text": [
      "Пустых значений: 31\n"
     ]
    },
    {
     "data": {
      "image/png": "[encoded data removed]",
      "text/plain": [
       "<Figure size 432x288 with 1 Axes>"
      ]
     },
     "metadata": {
      "needs_background": "light"
     },
     "output_type": "display_data"
    },
    {
     "name": "stdout",
     "output_type": "stream",
     "text": [
      "\n",
      "\n",
      "Столбец schoolsup\n",
      "\n",
      "Всего уникальных значений признака: 3\n"
     ]
    },
    {
     "data": {
      "text/plain": [
       "no     331\n",
       "yes     49\n",
       "Name: schoolsup, dtype: int64"
      ]
     },
     "metadata": {},
     "output_type": "display_data"
    },
    {
     "name": "stdout",
     "output_type": "stream",
     "text": [
      "Пустых значений: 9\n"
     ]
    },
    {
     "data": {
      "image/png": "[encoded data removed]",
      "text/plain": [
       "<Figure size 432x288 with 1 Axes>"
      ]
     },
     "metadata": {
      "needs_background": "light"
     },
     "output_type": "display_data"
    },
    {
     "name": "stdout",
     "output_type": "stream",
     "text": [
      "\n",
      "\n",
      "Столбец famsup\n",
      "\n",
      "Всего уникальных значений признака: 3\n"
     ]
    },
    {
     "data": {
      "text/plain": [
       "yes    216\n",
       "no     135\n",
       "Name: famsup, dtype: int64"
      ]
     },
     "metadata": {},
     "output_type": "display_data"
    },
    {
     "name": "stdout",
     "output_type": "stream",
     "text": [
      "Пустых значений: 38\n"
     ]
    },
    {
     "data": {
      "image/png": "[encoded data removed]",
      "text/plain": [
       "<Figure size 432x288 with 1 Axes>"
      ]
     },
     "metadata": {
      "needs_background": "light"
     },
     "output_type": "display_data"
    },
    {
     "name": "stdout",
     "output_type": "stream",
     "text": [
      "\n",
      "\n",
      "Столбец paid\n",
      "\n",
      "Всего уникальных значений признака: 3\n"
     ]
    },
    {
     "data": {
      "text/plain": [
       "no     197\n",
       "yes    153\n",
       "Name: paid, dtype: int64"
      ]
     },
     "metadata": {},
     "output_type": "display_data"
    },
    {
     "name": "stdout",
     "output_type": "stream",
     "text": [
      "Пустых значений: 39\n"
     ]
    },
    {
     "data": {
      "image/png": "[encoded data removed]",
      "text/plain": [
       "<Figure size 432x288 with 1 Axes>"
      ]
     },
     "metadata": {
      "needs_background": "light"
     },
     "output_type": "display_data"
    },
    {
     "name": "stdout",
     "output_type": "stream",
     "text": [
      "\n",
      "\n",
      "Столбец activities\n",
      "\n",
      "Всего уникальных значений признака: 3\n"
     ]
    },
    {
     "data": {
      "text/plain": [
       "yes    192\n",
       "no     183\n",
       "Name: activities, dtype: int64"
      ]
     },
     "metadata": {},
     "output_type": "display_data"
    },
    {
     "name": "stdout",
     "output_type": "stream",
     "text": [
      "Пустых значений: 14\n"
     ]
    },
    {
     "data": {
      "image/png": "[encoded data removed]",
      "text/plain": [
       "<Figure size 432x288 with 1 Axes>"
      ]
     },
     "metadata": {
      "needs_background": "light"
     },
     "output_type": "display_data"
    },
    {
     "name": "stdout",
     "output_type": "stream",
     "text": [
      "\n",
      "\n",
      "Столбец nursery\n",
      "\n",
      "Всего уникальных значений признака: 3\n"
     ]
    },
    {
     "data": {
      "text/plain": [
       "yes    297\n",
       "no      77\n",
       "Name: nursery, dtype: int64"
      ]
     },
     "metadata": {},
     "output_type": "display_data"
    },
    {
     "name": "stdout",
     "output_type": "stream",
     "text": [
      "Пустых значений: 15\n"
     ]
    },
    {
     "data": {
      "image/png": "[encoded data removed]",
      "text/plain": [
       "<Figure size 432x288 with 1 Axes>"
      ]
     },
     "metadata": {
      "needs_background": "light"
     },
     "output_type": "display_data"
    },
    {
     "name": "stdout",
     "output_type": "stream",
     "text": [
      "\n",
      "\n",
      "Столбец higher\n",
      "\n",
      "Всего уникальных значений признака: 3\n"
     ]
    },
    {
     "data": {
      "text/plain": [
       "yes    350\n",
       "no      19\n",
       "Name: higher, dtype: int64"
      ]
     },
     "metadata": {},
     "output_type": "display_data"
    },
    {
     "name": "stdout",
     "output_type": "stream",
     "text": [
      "Пустых значений: 20\n"
     ]
    },
    {
     "data": {
      "image/png": "[encoded data removed]",
      "text/plain": [
       "<Figure size 432x288 with 1 Axes>"
      ]
     },
     "metadata": {
      "needs_background": "light"
     },
     "output_type": "display_data"
    },
    {
     "name": "stdout",
     "output_type": "stream",
     "text": [
      "\n",
      "\n",
      "Столбец internet\n",
      "\n",
      "Всего уникальных значений признака: 3\n"
     ]
    },
    {
     "data": {
      "text/plain": [
       "yes    300\n",
       "no      55\n",
       "Name: internet, dtype: int64"
      ]
     },
     "metadata": {},
     "output_type": "display_data"
    },
    {
     "name": "stdout",
     "output_type": "stream",
     "text": [
      "Пустых значений: 34\n"
     ]
    },
    {
     "data": {
      "image/png": "[encoded data removed]",
      "text/plain": [
       "<Figure size 432x288 with 1 Axes>"
      ]
     },
     "metadata": {
      "needs_background": "light"
     },
     "output_type": "display_data"
    },
    {
     "name": "stdout",
     "output_type": "stream",
     "text": [
      "\n",
      "\n",
      "Столбец romantic\n",
      "\n",
      "Всего уникальных значений признака: 3\n"
     ]
    },
    {
     "data": {
      "text/plain": [
       "no     235\n",
       "yes    123\n",
       "Name: romantic, dtype: int64"
      ]
     },
     "metadata": {},
     "output_type": "display_data"
    },
    {
     "name": "stdout",
     "output_type": "stream",
     "text": [
      "Пустых значений: 31\n"
     ]
    },
    {
     "data": {
      "image/png": "[encoded data removed]",
      "text/plain": [
       "<Figure size 432x288 with 1 Axes>"
      ]
     },
     "metadata": {
      "needs_background": "light"
     },
     "output_type": "display_data"
    },
    {
     "name": "stdout",
     "output_type": "stream",
     "text": [
      "\n",
      "\n"
     ]
    }
   ],
   "source": [
    "# Создаим краткое описание каждого номинмального столбца\n",
    "for column in stud_math.columns:\n",
    "    describe_object_columns(column)"
   ]
  },
  {
   "cell_type": "code",
   "execution_count": 12,
   "metadata": {},
   "outputs": [],
   "source": [
    "# Функция дает краткое описание каждого порядкового и числового столбца\n",
    "def describe_numeric_columns(column):\n",
    "    if stud_math[column].dtype != 'object':\n",
    "        # Преобразуем пустые ячейки в Null\n",
    "        stud_math[column].apply(lambda x: None if (x == 'NaN' or x == '') else x)        \n",
    "        print(f'Столбец {column}')\n",
    "        print()\n",
    "        # Количество значений Null\n",
    "        print(f'Пустых значений: {stud_math.loc[pd.isnull(stud_math[column])][column].size}')\n",
    "        stud_math[column].hist()\n",
    "        plt.show()\n",
    "        display(stud_math[column].describe())"
   ]
  },
  {
   "cell_type": "code",
   "execution_count": 13,
   "metadata": {},
   "outputs": [
    {
     "name": "stdout",
     "output_type": "stream",
     "text": [
      "Столбец age\n",
      "\n",
      "Пустых значений: 0\n"
     ]
    },
    {
     "data": {
      "image/png": "[encoded data removed]",
      "text/plain": [
       "<Figure size 432x288 with 1 Axes>"
      ]
     },
     "metadata": {
      "needs_background": "light"
     },
     "output_type": "display_data"
    },
    {
     "data": {
      "text/plain": [
       "count    389.000000\n",
       "mean      16.673522\n",
       "std        1.265662\n",
       "min       15.000000\n",
       "25%       16.000000\n",
       "50%       17.000000\n",
       "75%       18.000000\n",
       "max       22.000000\n",
       "Name: age, dtype: float64"
      ]
     },
     "metadata": {},
     "output_type": "display_data"
    },
    {
     "name": "stdout",
     "output_type": "stream",
     "text": [
      "Столбец Medu\n",
      "\n",
      "Пустых значений: 3\n"
     ]
    },
    {
     "data": {
      "image/png": "[encoded data removed]",
      "text/plain": [
       "<Figure size 432x288 with 1 Axes>"
      ]
     },
     "metadata": {
      "needs_background": "light"
     },
     "output_type": "display_data"
    },
    {
     "data": {
      "text/plain": [
       "count    386.000000\n",
       "mean       2.766839\n",
       "std        1.094277\n",
       "min        0.000000\n",
       "25%        2.000000\n",
       "50%        3.000000\n",
       "75%        4.000000\n",
       "max        4.000000\n",
       "Name: Medu, dtype: float64"
      ]
     },
     "metadata": {},
     "output_type": "display_data"
    },
    {
     "name": "stdout",
     "output_type": "stream",
     "text": [
      "Столбец Fedu\n",
      "\n",
      "Пустых значений: 24\n"
     ]
    },
    {
     "data": {
      "image/png": "[encoded data removed]",
      "text/plain": [
       "<Figure size 432x288 with 1 Axes>"
      ]
     },
     "metadata": {
      "needs_background": "light"
     },
     "output_type": "display_data"
    },
    {
     "data": {
      "text/plain": [
       "count    365.000000\n",
       "mean       2.627397\n",
       "std        2.241790\n",
       "min        0.000000\n",
       "25%        2.000000\n",
       "50%        3.000000\n",
       "75%        3.000000\n",
       "max       40.000000\n",
       "Name: Fedu, dtype: float64"
      ]
     },
     "metadata": {},
     "output_type": "display_data"
    },
    {
     "name": "stdout",
     "output_type": "stream",
     "text": [
      "Столбец traveltime\n",
      "\n",
      "Пустых значений: 28\n"
     ]
    },
    {
     "data": {
      "image/png": "[encoded data removed]",
      "text/plain": [
       "<Figure size 432x288 with 1 Axes>"
      ]
     },
     "metadata": {
      "needs_background": "light"
     },
     "output_type": "display_data"
    },
    {
     "data": {
      "text/plain": [
       "count    361.000000\n",
       "mean       1.434903\n",
       "std        0.692660\n",
       "min        1.000000\n",
       "25%        1.000000\n",
       "50%        1.000000\n",
       "75%        2.000000\n",
       "max        4.000000\n",
       "Name: traveltime, dtype: float64"
      ]
     },
     "metadata": {},
     "output_type": "display_data"
    },
    {
     "name": "stdout",
     "output_type": "stream",
     "text": [
      "Столбец studytime\n",
      "\n",
      "Пустых значений: 7\n"
     ]
    },
    {
     "data": {
      "image/png": "[encoded data removed]",
      "text/plain": [
       "<Figure size 432x288 with 1 Axes>"
      ]
     },
     "metadata": {
      "needs_background": "light"
     },
     "output_type": "display_data"
    },
    {
     "data": {
      "text/plain": [
       "count    382.000000\n",
       "mean       2.036649\n",
       "std        0.847239\n",
       "min        1.000000\n",
       "25%        1.000000\n",
       "50%        2.000000\n",
       "75%        2.000000\n",
       "max        4.000000\n",
       "Name: studytime, dtype: float64"
      ]
     },
     "metadata": {},
     "output_type": "display_data"
    },
    {
     "name": "stdout",
     "output_type": "stream",
     "text": [
      "Столбец failures\n",
      "\n",
      "Пустых значений: 22\n"
     ]
    },
    {
     "data": {
      "image/png": "[encoded data removed]",
      "text/plain": [
       "<Figure size 432x288 with 1 Axes>"
      ]
     },
     "metadata": {
      "needs_background": "light"
     },
     "output_type": "display_data"
    },
    {
     "data": {
      "text/plain": [
       "count    367.000000\n",
       "mean       0.326975\n",
       "std        0.729479\n",
       "min        0.000000\n",
       "25%        0.000000\n",
       "50%        0.000000\n",
       "75%        0.000000\n",
       "max        3.000000\n",
       "Name: failures, dtype: float64"
      ]
     },
     "metadata": {},
     "output_type": "display_data"
    },
    {
     "name": "stdout",
     "output_type": "stream",
     "text": [
      "Столбец famrel\n",
      "\n",
      "Пустых значений: 27\n"
     ]
    },
    {
     "data": {
      "image/png": "[encoded data removed]",
      "text/plain": [
       "<Figure size 432x288 with 1 Axes>"
      ]
     },
     "metadata": {
      "needs_background": "light"
     },
     "output_type": "display_data"
    },
    {
     "data": {
      "text/plain": [
       "count    362.000000\n",
       "mean       3.930939\n",
       "std        0.931554\n",
       "min       -1.000000\n",
       "25%        4.000000\n",
       "50%        4.000000\n",
       "75%        5.000000\n",
       "max        5.000000\n",
       "Name: famrel, dtype: float64"
      ]
     },
     "metadata": {},
     "output_type": "display_data"
    },
    {
     "name": "stdout",
     "output_type": "stream",
     "text": [
      "Столбец freetime\n",
      "\n",
      "Пустых значений: 9\n"
     ]
    },
    {
     "data": {
      "image/png": "[encoded data removed]",
      "text/plain": [
       "<Figure size 432x288 with 1 Axes>"
      ]
     },
     "metadata": {
      "needs_background": "light"
     },
     "output_type": "display_data"
    },
    {
     "data": {
      "text/plain": [
       "count    380.000000\n",
       "mean       3.223684\n",
       "std        0.993364\n",
       "min        1.000000\n",
       "25%        3.000000\n",
       "50%        3.000000\n",
       "75%        4.000000\n",
       "max        5.000000\n",
       "Name: freetime, dtype: float64"
      ]
     },
     "metadata": {},
     "output_type": "display_data"
    },
    {
     "name": "stdout",
     "output_type": "stream",
     "text": [
      "Столбец goout\n",
      "\n",
      "Пустых значений: 7\n"
     ]
    },
    {
     "data": {
      "image/png": "[encoded data removed]",
      "text/plain": [
       "<Figure size 432x288 with 1 Axes>"
      ]
     },
     "metadata": {
      "needs_background": "light"
     },
     "output_type": "display_data"
    },
    {
     "data": {
      "text/plain": [
       "count    382.000000\n",
       "mean       3.094241\n",
       "std        1.116104\n",
       "min        1.000000\n",
       "25%        2.000000\n",
       "50%        3.000000\n",
       "75%        4.000000\n",
       "max        5.000000\n",
       "Name: goout, dtype: float64"
      ]
     },
     "metadata": {},
     "output_type": "display_data"
    },
    {
     "name": "stdout",
     "output_type": "stream",
     "text": [
      "Столбец health\n",
      "\n",
      "Пустых значений: 15\n"
     ]
    },
    {
     "data": {
      "image/png": "[encoded data removed]",
      "text/plain": [
       "<Figure size 432x288 with 1 Axes>"
      ]
     },
     "metadata": {
      "needs_background": "light"
     },
     "output_type": "display_data"
    },
    {
     "data": {
      "text/plain": [
       "count    374.000000\n",
       "mean       3.529412\n",
       "std        1.402006\n",
       "min        1.000000\n",
       "25%        3.000000\n",
       "50%        4.000000\n",
       "75%        5.000000\n",
       "max        5.000000\n",
       "Name: health, dtype: float64"
      ]
     },
     "metadata": {},
     "output_type": "display_data"
    },
    {
     "name": "stdout",
     "output_type": "stream",
     "text": [
      "Столбец absences\n",
      "\n",
      "Пустых значений: 11\n"
     ]
    },
    {
     "data": {
      "image/png": "[encoded data removed]",
      "text/plain": [
       "<Figure size 432x288 with 1 Axes>"
      ]
     },
     "metadata": {
      "needs_background": "light"
     },
     "output_type": "display_data"
    },
    {
     "data": {
      "text/plain": [
       "count    378.000000\n",
       "mean       7.320106\n",
       "std       23.615525\n",
       "min        0.000000\n",
       "25%        0.000000\n",
       "50%        4.000000\n",
       "75%        8.000000\n",
       "max      385.000000\n",
       "Name: absences, dtype: float64"
      ]
     },
     "metadata": {},
     "output_type": "display_data"
    },
    {
     "name": "stdout",
     "output_type": "stream",
     "text": [
      "Столбец score\n",
      "\n",
      "Пустых значений: 0\n"
     ]
    },
    {
     "data": {
      "image/png": "[encoded data removed]",
      "text/plain": [
       "<Figure size 432x288 with 1 Axes>"
      ]
     },
     "metadata": {
      "needs_background": "light"
     },
     "output_type": "display_data"
    },
    {
     "data": {
      "text/plain": [
       "count    389.000000\n",
       "mean      52.262211\n",
       "std       22.919022\n",
       "min        0.000000\n",
       "25%       40.000000\n",
       "50%       55.000000\n",
       "75%       70.000000\n",
       "max      100.000000\n",
       "Name: score, dtype: float64"
      ]
     },
     "metadata": {},
     "output_type": "display_data"
    }
   ],
   "source": [
    "# Создаим краткое описание каждого порядкового и числового столбца\n",
    "for column in stud_math.columns:\n",
    "    describe_numeric_columns(column)"
   ]
  },
  {
   "cell_type": "code",
   "execution_count": 14,
   "metadata": {},
   "outputs": [
    {
     "data": {
      "text/html": [
       "<div>\n",
       "<style scoped>\n",
       "    .dataframe tbody tr th:only-of-type {\n",
       "        vertical-align: middle;\n",
       "    }\n",
       "\n",
       "    .dataframe tbody tr th {\n",
       "        vertical-align: top;\n",
       "    }\n",
       "\n",
       "    .dataframe thead th {\n",
       "        text-align: right;\n",
       "    }\n",
       "</style>\n",
       "<table border=\"1\" class=\"dataframe\">\n",
       "  <thead>\n",
       "    <tr style=\"text-align: right;\">\n",
       "      <th></th>\n",
       "      <th>sex</th>\n",
       "      <th>age</th>\n",
       "      <th>address</th>\n",
       "      <th>famsize</th>\n",
       "      <th>Pstatus</th>\n",
       "      <th>Medu</th>\n",
       "      <th>Fedu</th>\n",
       "      <th>Mjob</th>\n",
       "      <th>Fjob</th>\n",
       "      <th>reason</th>\n",
       "      <th>guardian</th>\n",
       "      <th>traveltime</th>\n",
       "      <th>studytime</th>\n",
       "      <th>failures</th>\n",
       "      <th>schoolsup</th>\n",
       "      <th>famsup</th>\n",
       "      <th>paid</th>\n",
       "      <th>activities</th>\n",
       "      <th>nursery</th>\n",
       "      <th>higher</th>\n",
       "      <th>internet</th>\n",
       "      <th>romantic</th>\n",
       "      <th>famrel</th>\n",
       "      <th>freetime</th>\n",
       "      <th>goout</th>\n",
       "      <th>health</th>\n",
       "      <th>absences</th>\n",
       "      <th>score</th>\n",
       "    </tr>\n",
       "  </thead>\n",
       "  <tbody>\n",
       "    <tr>\n",
       "      <th>11</th>\n",
       "      <td>F</td>\n",
       "      <td>15</td>\n",
       "      <td>U</td>\n",
       "      <td>GT3</td>\n",
       "      <td>NaN</td>\n",
       "      <td>2.0</td>\n",
       "      <td>40.0</td>\n",
       "      <td>services</td>\n",
       "      <td>other</td>\n",
       "      <td>reputation</td>\n",
       "      <td>father</td>\n",
       "      <td>3.0</td>\n",
       "      <td>3.0</td>\n",
       "      <td>0.0</td>\n",
       "      <td>no</td>\n",
       "      <td>yes</td>\n",
       "      <td>no</td>\n",
       "      <td>yes</td>\n",
       "      <td>yes</td>\n",
       "      <td>yes</td>\n",
       "      <td>yes</td>\n",
       "      <td>no</td>\n",
       "      <td>5.0</td>\n",
       "      <td>2.0</td>\n",
       "      <td>2.0</td>\n",
       "      <td>4.0</td>\n",
       "      <td>4.0</td>\n",
       "      <td>60.0</td>\n",
       "    </tr>\n",
       "  </tbody>\n",
       "</table>\n",
       "</div>"
      ],
      "text/plain": [
       "   sex  age address famsize Pstatus  Medu  Fedu      Mjob   Fjob      reason  \\\n",
       "11   F   15       U     GT3     NaN   2.0  40.0  services  other  reputation   \n",
       "\n",
       "   guardian  traveltime  studytime  failures schoolsup famsup paid activities  \\\n",
       "11   father         3.0        3.0       0.0        no    yes   no        yes   \n",
       "\n",
       "   nursery higher internet romantic  famrel  freetime  goout  health  \\\n",
       "11     yes    yes      yes       no     5.0       2.0    2.0     4.0   \n",
       "\n",
       "    absences  score  \n",
       "11       4.0   60.0  "
      ]
     },
     "execution_count": 14,
     "metadata": {},
     "output_type": "execute_result"
    }
   ],
   "source": [
    "# В столбце \"Fedu\" есть ошибки, так как по условию значание не может превышать 4\n",
    "stud_math[stud_math['Fedu'] > 4]"
   ]
  },
  {
   "cell_type": "code",
   "execution_count": 15,
   "metadata": {},
   "outputs": [],
   "source": [
    "# По всей видимости это опечатка, имелось в виду значение 4. Заменяем 40 на 4.\n",
    "stud_math.loc[stud_math['Fedu'] > 4, 'Fedu'] = 4"
   ]
  },
  {
   "cell_type": "code",
   "execution_count": 16,
   "metadata": {},
   "outputs": [
    {
     "name": "stdout",
     "output_type": "stream",
     "text": [
      "Столбец Fedu\n",
      "\n",
      "Пустых значений: 24\n"
     ]
    },
    {
     "data": {
      "image/png": "[encoded data removed]",
      "text/plain": [
       "<Figure size 432x288 with 1 Axes>"
      ]
     },
     "metadata": {
      "needs_background": "light"
     },
     "output_type": "display_data"
    },
    {
     "data": {
      "text/plain": [
       "count    365.000000\n",
       "mean       2.528767\n",
       "std        1.088082\n",
       "min        0.000000\n",
       "25%        2.000000\n",
       "50%        3.000000\n",
       "75%        3.000000\n",
       "max        4.000000\n",
       "Name: Fedu, dtype: float64"
      ]
     },
     "metadata": {},
     "output_type": "display_data"
    }
   ],
   "source": [
    "describe_numeric_columns('Fedu')"
   ]
  },
  {
   "cell_type": "code",
   "execution_count": 17,
   "metadata": {},
   "outputs": [
    {
     "data": {
      "text/html": [
       "<div>\n",
       "<style scoped>\n",
       "    .dataframe tbody tr th:only-of-type {\n",
       "        vertical-align: middle;\n",
       "    }\n",
       "\n",
       "    .dataframe tbody tr th {\n",
       "        vertical-align: top;\n",
       "    }\n",
       "\n",
       "    .dataframe thead th {\n",
       "        text-align: right;\n",
       "    }\n",
       "</style>\n",
       "<table border=\"1\" class=\"dataframe\">\n",
       "  <thead>\n",
       "    <tr style=\"text-align: right;\">\n",
       "      <th></th>\n",
       "      <th>sex</th>\n",
       "      <th>age</th>\n",
       "      <th>address</th>\n",
       "      <th>famsize</th>\n",
       "      <th>Pstatus</th>\n",
       "      <th>Medu</th>\n",
       "      <th>Fedu</th>\n",
       "      <th>Mjob</th>\n",
       "      <th>Fjob</th>\n",
       "      <th>reason</th>\n",
       "      <th>guardian</th>\n",
       "      <th>traveltime</th>\n",
       "      <th>studytime</th>\n",
       "      <th>failures</th>\n",
       "      <th>schoolsup</th>\n",
       "      <th>famsup</th>\n",
       "      <th>paid</th>\n",
       "      <th>activities</th>\n",
       "      <th>nursery</th>\n",
       "      <th>higher</th>\n",
       "      <th>internet</th>\n",
       "      <th>romantic</th>\n",
       "      <th>famrel</th>\n",
       "      <th>freetime</th>\n",
       "      <th>goout</th>\n",
       "      <th>health</th>\n",
       "      <th>absences</th>\n",
       "      <th>score</th>\n",
       "    </tr>\n",
       "  </thead>\n",
       "  <tbody>\n",
       "    <tr>\n",
       "      <th>25</th>\n",
       "      <td>F</td>\n",
       "      <td>16</td>\n",
       "      <td>U</td>\n",
       "      <td>GT3</td>\n",
       "      <td>NaN</td>\n",
       "      <td>2.0</td>\n",
       "      <td>2.0</td>\n",
       "      <td>services</td>\n",
       "      <td>services</td>\n",
       "      <td>home</td>\n",
       "      <td>mother</td>\n",
       "      <td>1.0</td>\n",
       "      <td>1.0</td>\n",
       "      <td>2.0</td>\n",
       "      <td>no</td>\n",
       "      <td>yes</td>\n",
       "      <td>yes</td>\n",
       "      <td>no</td>\n",
       "      <td>no</td>\n",
       "      <td>yes</td>\n",
       "      <td>yes</td>\n",
       "      <td>no</td>\n",
       "      <td>-1.0</td>\n",
       "      <td>2.0</td>\n",
       "      <td>2.0</td>\n",
       "      <td>5.0</td>\n",
       "      <td>14.0</td>\n",
       "      <td>40.0</td>\n",
       "    </tr>\n",
       "  </tbody>\n",
       "</table>\n",
       "</div>"
      ],
      "text/plain": [
       "   sex  age address famsize Pstatus  Medu  Fedu      Mjob      Fjob reason  \\\n",
       "25   F   16       U     GT3     NaN   2.0   2.0  services  services   home   \n",
       "\n",
       "   guardian  traveltime  studytime  failures schoolsup famsup paid activities  \\\n",
       "25   mother         1.0        1.0       2.0        no    yes  yes         no   \n",
       "\n",
       "   nursery higher internet romantic  famrel  freetime  goout  health  \\\n",
       "25      no    yes      yes       no    -1.0       2.0    2.0     5.0   \n",
       "\n",
       "    absences  score  \n",
       "25      14.0   40.0  "
      ]
     },
     "execution_count": 17,
     "metadata": {},
     "output_type": "execute_result"
    }
   ],
   "source": [
    "# В столбце \"famrel\" есть ошибки, так как по условию значание не может быть меньше 0\n",
    "stud_math[stud_math['famrel'] < 0]"
   ]
  },
  {
   "cell_type": "code",
   "execution_count": 18,
   "metadata": {},
   "outputs": [],
   "source": [
    "# По всей видимости это опечатка, имелось в виду значение 1. Заменяем -1 на 1.\n",
    "stud_math.loc[stud_math['famrel'] < 0, 'famrel'] = 1"
   ]
  },
  {
   "cell_type": "code",
   "execution_count": 19,
   "metadata": {},
   "outputs": [
    {
     "name": "stdout",
     "output_type": "stream",
     "text": [
      "Столбец famrel\n",
      "\n",
      "Пустых значений: 27\n"
     ]
    },
    {
     "data": {
      "image/png": "[encoded data removed]",
      "text/plain": [
       "<Figure size 432x288 with 1 Axes>"
      ]
     },
     "metadata": {
      "needs_background": "light"
     },
     "output_type": "display_data"
    },
    {
     "data": {
      "text/plain": [
       "count    362.000000\n",
       "mean       3.936464\n",
       "std        0.907858\n",
       "min        1.000000\n",
       "25%        4.000000\n",
       "50%        4.000000\n",
       "75%        5.000000\n",
       "max        5.000000\n",
       "Name: famrel, dtype: float64"
      ]
     },
     "metadata": {},
     "output_type": "display_data"
    }
   ],
   "source": [
    "describe_numeric_columns('famrel')"
   ]
  },
  {
   "cell_type": "code",
   "execution_count": 20,
   "metadata": {},
   "outputs": [],
   "source": [
    "# Есть подозрение, что в столбцах \"age\" и \"absences\" есть выбросы справа\n",
    "\n",
    "# Функция рассчитывает правую границу, свыше которой находятся данные выборасов\n",
    "def outlier(column):\n",
    "    median = stud_math[column].median()\n",
    "    IQR = stud_math[column].quantile(0.75) - stud_math[column].quantile(0.25)\n",
    "    return stud_math[column].quantile(0.75) + 1.5 * IQR"
   ]
  },
  {
   "cell_type": "code",
   "execution_count": 21,
   "metadata": {},
   "outputs": [],
   "source": [
    "# Заменяем значения выбросов на Null\n",
    "stud_math.loc[stud_math['age'] > outlier('age'), 'age'] = None\n",
    "stud_math.loc[stud_math['absences'] > outlier('absences'), 'absences'] = None"
   ]
  },
  {
   "cell_type": "code",
   "execution_count": 22,
   "metadata": {},
   "outputs": [
    {
     "name": "stdout",
     "output_type": "stream",
     "text": [
      "Столбец age\n",
      "\n",
      "Пустых значений: 1\n"
     ]
    },
    {
     "data": {
      "image/png": "[encoded data removed]",
      "text/plain": [
       "<Figure size 432x288 with 1 Axes>"
      ]
     },
     "metadata": {
      "needs_background": "light"
     },
     "output_type": "display_data"
    },
    {
     "data": {
      "text/plain": [
       "count    388.000000\n",
       "mean      16.659794\n",
       "std        1.237958\n",
       "min       15.000000\n",
       "25%       16.000000\n",
       "50%       17.000000\n",
       "75%       18.000000\n",
       "max       21.000000\n",
       "Name: age, dtype: float64"
      ]
     },
     "metadata": {},
     "output_type": "display_data"
    }
   ],
   "source": [
    "describe_numeric_columns('age')"
   ]
  },
  {
   "cell_type": "code",
   "execution_count": 23,
   "metadata": {},
   "outputs": [
    {
     "name": "stdout",
     "output_type": "stream",
     "text": [
      "Столбец absences\n",
      "\n",
      "Пустых значений: 28\n"
     ]
    },
    {
     "data": {
      "image/png": "[encoded data removed]",
      "text/plain": [
       "<Figure size 432x288 with 1 Axes>"
      ]
     },
     "metadata": {
      "needs_background": "light"
     },
     "output_type": "display_data"
    },
    {
     "data": {
      "text/plain": [
       "count    361.000000\n",
       "mean       4.609418\n",
       "std        4.989413\n",
       "min        0.000000\n",
       "25%        0.000000\n",
       "50%        4.000000\n",
       "75%        7.000000\n",
       "max       20.000000\n",
       "Name: absences, dtype: float64"
      ]
     },
     "metadata": {},
     "output_type": "display_data"
    }
   ],
   "source": [
    "describe_numeric_columns('absences')"
   ]
  },
  {
   "cell_type": "markdown",
   "metadata": {},
   "source": [
    "В столбце \"score\" явным выборосом являются данные со значением 0. Можно предположить, что это ученики, по каким-либо причинам пропустившие экзамен. Так как причины пропуска экзамена неизвестны, балл 0 не дает представления о их реальном знании математики."
   ]
  },
  {
   "cell_type": "code",
   "execution_count": 24,
   "metadata": {},
   "outputs": [],
   "source": [
    "# Исключим такие данные их рассматриваемого набора\n",
    "stud_math.drop(stud_math[stud_math['score']==0].index, axis='index', inplace=True)"
   ]
  },
  {
   "cell_type": "markdown",
   "metadata": {},
   "source": [
    "# 2. Корреляционный анализ"
   ]
  },
  {
   "cell_type": "markdown",
   "metadata": {},
   "source": [
    "Применим корреляционный анализ ко всем порядковым и числовым данным."
   ]
  },
  {
   "cell_type": "code",
   "execution_count": 25,
   "metadata": {},
   "outputs": [
    {
     "data": {
      "text/html": [
       "<div>\n",
       "<style scoped>\n",
       "    .dataframe tbody tr th:only-of-type {\n",
       "        vertical-align: middle;\n",
       "    }\n",
       "\n",
       "    .dataframe tbody tr th {\n",
       "        vertical-align: top;\n",
       "    }\n",
       "\n",
       "    .dataframe thead th {\n",
       "        text-align: right;\n",
       "    }\n",
       "</style>\n",
       "<table border=\"1\" class=\"dataframe\">\n",
       "  <thead>\n",
       "    <tr style=\"text-align: right;\">\n",
       "      <th></th>\n",
       "      <th>age</th>\n",
       "      <th>Medu</th>\n",
       "      <th>Fedu</th>\n",
       "      <th>traveltime</th>\n",
       "      <th>studytime</th>\n",
       "      <th>failures</th>\n",
       "      <th>famrel</th>\n",
       "      <th>freetime</th>\n",
       "      <th>goout</th>\n",
       "      <th>health</th>\n",
       "      <th>absences</th>\n",
       "      <th>score</th>\n",
       "    </tr>\n",
       "  </thead>\n",
       "  <tbody>\n",
       "    <tr>\n",
       "      <th>age</th>\n",
       "      <td>1.000000</td>\n",
       "      <td>-0.128496</td>\n",
       "      <td>-0.115096</td>\n",
       "      <td>0.106431</td>\n",
       "      <td>0.004173</td>\n",
       "      <td>0.193357</td>\n",
       "      <td>0.059252</td>\n",
       "      <td>-0.004895</td>\n",
       "      <td>0.105288</td>\n",
       "      <td>-0.034894</td>\n",
       "      <td>0.187220</td>\n",
       "      <td>-0.121579</td>\n",
       "    </tr>\n",
       "    <tr>\n",
       "      <th>Medu</th>\n",
       "      <td>-0.128496</td>\n",
       "      <td>1.000000</td>\n",
       "      <td>0.606270</td>\n",
       "      <td>-0.165394</td>\n",
       "      <td>0.070533</td>\n",
       "      <td>-0.205944</td>\n",
       "      <td>-0.006133</td>\n",
       "      <td>0.021002</td>\n",
       "      <td>0.080556</td>\n",
       "      <td>-0.038050</td>\n",
       "      <td>0.034569</td>\n",
       "      <td>0.186477</td>\n",
       "    </tr>\n",
       "    <tr>\n",
       "      <th>Fedu</th>\n",
       "      <td>-0.115096</td>\n",
       "      <td>0.606270</td>\n",
       "      <td>1.000000</td>\n",
       "      <td>-0.145471</td>\n",
       "      <td>-0.010779</td>\n",
       "      <td>-0.268901</td>\n",
       "      <td>-0.016694</td>\n",
       "      <td>-0.030449</td>\n",
       "      <td>0.044127</td>\n",
       "      <td>0.018671</td>\n",
       "      <td>-0.040331</td>\n",
       "      <td>0.135268</td>\n",
       "    </tr>\n",
       "    <tr>\n",
       "      <th>traveltime</th>\n",
       "      <td>0.106431</td>\n",
       "      <td>-0.165394</td>\n",
       "      <td>-0.145471</td>\n",
       "      <td>1.000000</td>\n",
       "      <td>-0.101490</td>\n",
       "      <td>0.091757</td>\n",
       "      <td>-0.029299</td>\n",
       "      <td>-0.023067</td>\n",
       "      <td>0.029374</td>\n",
       "      <td>-0.000092</td>\n",
       "      <td>-0.044581</td>\n",
       "      <td>-0.075516</td>\n",
       "    </tr>\n",
       "    <tr>\n",
       "      <th>studytime</th>\n",
       "      <td>0.004173</td>\n",
       "      <td>0.070533</td>\n",
       "      <td>-0.010779</td>\n",
       "      <td>-0.101490</td>\n",
       "      <td>1.000000</td>\n",
       "      <td>-0.156406</td>\n",
       "      <td>0.057143</td>\n",
       "      <td>-0.128661</td>\n",
       "      <td>-0.029686</td>\n",
       "      <td>-0.085469</td>\n",
       "      <td>-0.094304</td>\n",
       "      <td>0.142055</td>\n",
       "    </tr>\n",
       "    <tr>\n",
       "      <th>failures</th>\n",
       "      <td>0.193357</td>\n",
       "      <td>-0.205944</td>\n",
       "      <td>-0.268901</td>\n",
       "      <td>0.091757</td>\n",
       "      <td>-0.156406</td>\n",
       "      <td>1.000000</td>\n",
       "      <td>0.006870</td>\n",
       "      <td>0.127391</td>\n",
       "      <td>0.126770</td>\n",
       "      <td>0.064083</td>\n",
       "      <td>0.172971</td>\n",
       "      <td>-0.289377</td>\n",
       "    </tr>\n",
       "    <tr>\n",
       "      <th>famrel</th>\n",
       "      <td>0.059252</td>\n",
       "      <td>-0.006133</td>\n",
       "      <td>-0.016694</td>\n",
       "      <td>-0.029299</td>\n",
       "      <td>0.057143</td>\n",
       "      <td>0.006870</td>\n",
       "      <td>1.000000</td>\n",
       "      <td>0.158597</td>\n",
       "      <td>0.045341</td>\n",
       "      <td>0.107055</td>\n",
       "      <td>-0.112595</td>\n",
       "      <td>0.040590</td>\n",
       "    </tr>\n",
       "    <tr>\n",
       "      <th>freetime</th>\n",
       "      <td>-0.004895</td>\n",
       "      <td>0.021002</td>\n",
       "      <td>-0.030449</td>\n",
       "      <td>-0.023067</td>\n",
       "      <td>-0.128661</td>\n",
       "      <td>0.127391</td>\n",
       "      <td>0.158597</td>\n",
       "      <td>1.000000</td>\n",
       "      <td>0.296392</td>\n",
       "      <td>0.072729</td>\n",
       "      <td>0.090665</td>\n",
       "      <td>-0.012457</td>\n",
       "    </tr>\n",
       "    <tr>\n",
       "      <th>goout</th>\n",
       "      <td>0.105288</td>\n",
       "      <td>0.080556</td>\n",
       "      <td>0.044127</td>\n",
       "      <td>0.029374</td>\n",
       "      <td>-0.029686</td>\n",
       "      <td>0.126770</td>\n",
       "      <td>0.045341</td>\n",
       "      <td>0.296392</td>\n",
       "      <td>1.000000</td>\n",
       "      <td>-0.010343</td>\n",
       "      <td>0.131236</td>\n",
       "      <td>-0.182286</td>\n",
       "    </tr>\n",
       "    <tr>\n",
       "      <th>health</th>\n",
       "      <td>-0.034894</td>\n",
       "      <td>-0.038050</td>\n",
       "      <td>0.018671</td>\n",
       "      <td>-0.000092</td>\n",
       "      <td>-0.085469</td>\n",
       "      <td>0.064083</td>\n",
       "      <td>0.107055</td>\n",
       "      <td>0.072729</td>\n",
       "      <td>-0.010343</td>\n",
       "      <td>1.000000</td>\n",
       "      <td>-0.007110</td>\n",
       "      <td>-0.075340</td>\n",
       "    </tr>\n",
       "    <tr>\n",
       "      <th>absences</th>\n",
       "      <td>0.187220</td>\n",
       "      <td>0.034569</td>\n",
       "      <td>-0.040331</td>\n",
       "      <td>-0.044581</td>\n",
       "      <td>-0.094304</td>\n",
       "      <td>0.172971</td>\n",
       "      <td>-0.112595</td>\n",
       "      <td>0.090665</td>\n",
       "      <td>0.131236</td>\n",
       "      <td>-0.007110</td>\n",
       "      <td>1.000000</td>\n",
       "      <td>-0.242220</td>\n",
       "    </tr>\n",
       "    <tr>\n",
       "      <th>score</th>\n",
       "      <td>-0.121579</td>\n",
       "      <td>0.186477</td>\n",
       "      <td>0.135268</td>\n",
       "      <td>-0.075516</td>\n",
       "      <td>0.142055</td>\n",
       "      <td>-0.289377</td>\n",
       "      <td>0.040590</td>\n",
       "      <td>-0.012457</td>\n",
       "      <td>-0.182286</td>\n",
       "      <td>-0.075340</td>\n",
       "      <td>-0.242220</td>\n",
       "      <td>1.000000</td>\n",
       "    </tr>\n",
       "  </tbody>\n",
       "</table>\n",
       "</div>"
      ],
      "text/plain": [
       "                 age      Medu      Fedu  traveltime  studytime  failures  \\\n",
       "age         1.000000 -0.128496 -0.115096    0.106431   0.004173  0.193357   \n",
       "Medu       -0.128496  1.000000  0.606270   -0.165394   0.070533 -0.205944   \n",
       "Fedu       -0.115096  0.606270  1.000000   -0.145471  -0.010779 -0.268901   \n",
       "traveltime  0.106431 -0.165394 -0.145471    1.000000  -0.101490  0.091757   \n",
       "studytime   0.004173  0.070533 -0.010779   -0.101490   1.000000 -0.156406   \n",
       "failures    0.193357 -0.205944 -0.268901    0.091757  -0.156406  1.000000   \n",
       "famrel      0.059252 -0.006133 -0.016694   -0.029299   0.057143  0.006870   \n",
       "freetime   -0.004895  0.021002 -0.030449   -0.023067  -0.128661  0.127391   \n",
       "goout       0.105288  0.080556  0.044127    0.029374  -0.029686  0.126770   \n",
       "health     -0.034894 -0.038050  0.018671   -0.000092  -0.085469  0.064083   \n",
       "absences    0.187220  0.034569 -0.040331   -0.044581  -0.094304  0.172971   \n",
       "score      -0.121579  0.186477  0.135268   -0.075516   0.142055 -0.289377   \n",
       "\n",
       "              famrel  freetime     goout    health  absences     score  \n",
       "age         0.059252 -0.004895  0.105288 -0.034894  0.187220 -0.121579  \n",
       "Medu       -0.006133  0.021002  0.080556 -0.038050  0.034569  0.186477  \n",
       "Fedu       -0.016694 -0.030449  0.044127  0.018671 -0.040331  0.135268  \n",
       "traveltime -0.029299 -0.023067  0.029374 -0.000092 -0.044581 -0.075516  \n",
       "studytime   0.057143 -0.128661 -0.029686 -0.085469 -0.094304  0.142055  \n",
       "failures    0.006870  0.127391  0.126770  0.064083  0.172971 -0.289377  \n",
       "famrel      1.000000  0.158597  0.045341  0.107055 -0.112595  0.040590  \n",
       "freetime    0.158597  1.000000  0.296392  0.072729  0.090665 -0.012457  \n",
       "goout       0.045341  0.296392  1.000000 -0.010343  0.131236 -0.182286  \n",
       "health      0.107055  0.072729 -0.010343  1.000000 -0.007110 -0.075340  \n",
       "absences   -0.112595  0.090665  0.131236 -0.007110  1.000000 -0.242220  \n",
       "score       0.040590 -0.012457 -0.182286 -0.075340 -0.242220  1.000000  "
      ]
     },
     "execution_count": 25,
     "metadata": {},
     "output_type": "execute_result"
    }
   ],
   "source": [
    "stud_math.corr()"
   ]
  },
  {
   "cell_type": "markdown",
   "metadata": {},
   "source": [
    "Достаточно высокий уровень коррекляции между \"Medu\" и \"Fedu\", но не на столько, чтобы исключить одну из переменных."
   ]
  },
  {
   "cell_type": "markdown",
   "metadata": {},
   "source": [
    "Не обнаружено числовых переменных с высоким уровнем корреляции с \"score\"."
   ]
  },
  {
   "cell_type": "markdown",
   "metadata": {},
   "source": [
    "# 3. Анализ номинальных переменных"
   ]
  },
  {
   "cell_type": "markdown",
   "metadata": {},
   "source": [
    "Проведем анализ номинальных переменнных. Так как порядковые переменые занимают \"промежуточные\" значения между номимальными и числовыми переменными, включим в этот анализ и порядковые переменные. "
   ]
  },
  {
   "cell_type": "code",
   "execution_count": 26,
   "metadata": {},
   "outputs": [],
   "source": [
    "# Функция построение графиков для переменных одного столбца.\n",
    "def get_boxplot(column):\n",
    "    fig, ax = plt.subplots(figsize=(10, 4))\n",
    "    sns.boxplot(x=column,\n",
    "                y='score',\n",
    "                data=stud_math,\n",
    "                ax=ax)\n",
    "    plt.xticks(rotation=45)\n",
    "    ax.set_title('Boxplot for ' + column)\n",
    "    plt.show()"
   ]
  },
  {
   "cell_type": "code",
   "execution_count": 27,
   "metadata": {},
   "outputs": [
    {
     "data": {
      "image/png": "[encoded data removed]",
      "text/plain": [
       "<Figure size 720x288 with 1 Axes>"
      ]
     },
     "metadata": {
      "needs_background": "light"
     },
     "output_type": "display_data"
    },
    {
     "data": {
      "image/png": "[encoded data removed]",
      "text/plain": [
       "<Figure size 720x288 with 1 Axes>"
      ]
     },
     "metadata": {
      "needs_background": "light"
     },
     "output_type": "display_data"
    },
    {
     "data": {
      "image/png": "[encoded data removed]",
      "text/plain": [
       "<Figure size 720x288 with 1 Axes>"
      ]
     },
     "metadata": {
      "needs_background": "light"
     },
     "output_type": "display_data"
    },
    {
     "data": {
      "image/png": "[encoded data removed]",
      "text/plain": [
       "<Figure size 720x288 with 1 Axes>"
      ]
     },
     "metadata": {
      "needs_background": "light"
     },
     "output_type": "display_data"
    },
    {
     "data": {
      "image/png": "[encoded data removed]",
      "text/plain": [
       "<Figure size 720x288 with 1 Axes>"
      ]
     },
     "metadata": {
      "needs_background": "light"
     },
     "output_type": "display_data"
    },
    {
     "data": {
      "image/png": "[encoded data removed]",
      "text/plain": [
       "<Figure size 720x288 with 1 Axes>"
      ]
     },
     "metadata": {
      "needs_background": "light"
     },
     "output_type": "display_data"
    },
    {
     "data": {
      "image/png": "[encoded data removed]",
      "text/plain": [
       "<Figure size 720x288 with 1 Axes>"
      ]
     },
     "metadata": {
      "needs_background": "light"
     },
     "output_type": "display_data"
    },
    {
     "data": {
      "image/png": "[encoded data removed]",
      "text/plain": [
       "<Figure size 720x288 with 1 Axes>"
      ]
     },
     "metadata": {
      "needs_background": "light"
     },
     "output_type": "display_data"
    },
    {
     "data": {
      "image/png": "[encoded data removed]",
      "text/plain": [
       "<Figure size 720x288 with 1 Axes>"
      ]
     },
     "metadata": {
      "needs_background": "light"
     },
     "output_type": "display_data"
    },
    {
     "data": {
      "image/png": "[encoded data removed]",
      "text/plain": [
       "<Figure size 720x288 with 1 Axes>"
      ]
     },
     "metadata": {
      "needs_background": "light"
     },
     "output_type": "display_data"
    },
    {
     "data": {
      "image/png": "[encoded data removed]",
      "text/plain": [
       "<Figure size 720x288 with 1 Axes>"
      ]
     },
     "metadata": {
      "needs_background": "light"
     },
     "output_type": "display_data"
    },
    {
     "data": {
      "image/png": "[encoded data removed]",
      "text/plain": [
       "<Figure size 720x288 with 1 Axes>"
      ]
     },
     "metadata": {
      "needs_background": "light"
     },
     "output_type": "display_data"
    },
    {
     "data": {
      "image/png": "[encoded data removed]",
      "text/plain": [
       "<Figure size 720x288 with 1 Axes>"
      ]
     },
     "metadata": {
      "needs_background": "light"
     },
     "output_type": "display_data"
    },
    {
     "data": {
      "image/png": "[encoded data removed]",
      "text/plain": [
       "<Figure size 720x288 with 1 Axes>"
      ]
     },
     "metadata": {
      "needs_background": "light"
     },
     "output_type": "display_data"
    },
    {
     "data": {
      "image/png": "[encoded data removed]",
      "text/plain": [
       "<Figure size 720x288 with 1 Axes>"
      ]
     },
     "metadata": {
      "needs_background": "light"
     },
     "output_type": "display_data"
    },
    {
     "data": {
      "image/png": "[encoded data removed]",
      "text/plain": [
       "<Figure size 720x288 with 1 Axes>"
      ]
     },
     "metadata": {
      "needs_background": "light"
     },
     "output_type": "display_data"
    },
    {
     "data": {
      "image/png": "[encoded data removed]",
      "text/plain": [
       "<Figure size 720x288 with 1 Axes>"
      ]
     },
     "metadata": {
      "needs_background": "light"
     },
     "output_type": "display_data"
    },
    {
     "data": {
      "image/png": "[encoded data removed]",
      "text/plain": [
       "<Figure size 720x288 with 1 Axes>"
      ]
     },
     "metadata": {
      "needs_background": "light"
     },
     "output_type": "display_data"
    },
    {
     "data": {
      "image/png": "[encoded data removed]",
      "text/plain": [
       "<Figure size 720x288 with 1 Axes>"
      ]
     },
     "metadata": {
      "needs_background": "light"
     },
     "output_type": "display_data"
    },
    {
     "data": {
      "image/png": "[encoded data removed]",
      "text/plain": [
       "<Figure size 720x288 with 1 Axes>"
      ]
     },
     "metadata": {
      "needs_background": "light"
     },
     "output_type": "display_data"
    },
    {
     "data": {
      "image/png": "[encoded data removed]",
      "text/plain": [
       "<Figure size 720x288 with 1 Axes>"
      ]
     },
     "metadata": {
      "needs_background": "light"
     },
     "output_type": "display_data"
    },
    {
     "data": {
      "image/png": "[encoded data removed]",
      "text/plain": [
       "<Figure size 720x288 with 1 Axes>"
      ]
     },
     "metadata": {
      "needs_background": "light"
     },
     "output_type": "display_data"
    },
    {
     "data": {
      "image/png": "[encoded data removed]",
      "text/plain": [
       "<Figure size 720x288 with 1 Axes>"
      ]
     },
     "metadata": {
      "needs_background": "light"
     },
     "output_type": "display_data"
    }
   ],
   "source": [
    "list_to_analyze = [\"sex\", \"address\", \"famsize\", \"Mjob\", \"Fjob\", \"reason\", \"guardian\", \"schoolsup\", \"famsup\",\n",
    "                   \"paid\", \"activities\", \"nursery\", \"higher\", \"internet\", \"romantic\", \"Medu\", \"Fedu\", \"traveltime\",\n",
    "                   \"studytime\", \"famrel\", \"freetime\", \"goout\", \"health\"]\n",
    "for col in list_to_analyze:\n",
    "    get_boxplot(col)"
   ]
  },
  {
   "cell_type": "markdown",
   "metadata": {},
   "source": [
    "Результататы построения графико не дают показаний к исключению какой-либо переменной из анализа."
   ]
  },
  {
   "cell_type": "markdown",
   "metadata": {},
   "source": [
    "Проведем оценку с помощью теста Стьюдента. Для каждого значения переменной проверим, есть ли статистически обоснованные различия. За нулевую гипотизу установим, что распределение оценки по разным значениям параметра не различимы."
   ]
  },
  {
   "cell_type": "code",
   "execution_count": 28,
   "metadata": {},
   "outputs": [],
   "source": [
    "# Функция поиска для каждой пары значений параметра не попадания в интервал с достоверностью 95%\n",
    "def get_stat_dif(column):\n",
    "    cols = stud_math[column].unique()\n",
    "    combinations_all = list(combinations(cols, 2))\n",
    "    for comb in combinations_all:\n",
    "        ttest_result = ttest_ind(stud_math.loc[stud_math.loc[:, column] == comb[0], 'score'],\n",
    "                                 stud_math.loc[stud_math.loc[:, column] == comb[1], 'score']).pvalue\n",
    "        if ttest_result <= 0.05/len(combinations_all):  # Учли поправку Бонферони\n",
    "            print('Найдены статистически значимые различия для колонки', column)\n",
    "            print('Пара: ', comb, ', значение: ', ttest_result)"
   ]
  },
  {
   "cell_type": "code",
   "execution_count": 29,
   "metadata": {},
   "outputs": [
    {
     "name": "stdout",
     "output_type": "stream",
     "text": [
      "Найдены статистически значимые различия для колонки address\n",
      "Пара:  ('U', 'R') , значение:  0.010954630500627841\n",
      "Найдены статистически значимые различия для колонки Mjob\n",
      "Пара:  ('at_home', 'health') , значение:  0.0027982059798529013\n",
      "Найдены статистически значимые различия для колонки Mjob\n",
      "Пара:  ('health', 'other') , значение:  0.0017949217915780725\n",
      "Найдены статистически значимые различия для колонки Fjob\n",
      "Пара:  ('teacher', 'other') , значение:  0.002778578861364664\n",
      "Найдены статистически значимые различия для колонки Fjob\n",
      "Пара:  ('teacher', 'services') , значение:  0.002516318803149705\n",
      "Найдены статистически значимые различия для колонки schoolsup\n",
      "Пара:  ('yes', 'no') , значение:  2.8152819921387307e-06\n",
      "Найдены статистически значимые различия для колонки Medu\n",
      "Пара:  (4.0, 1.0) , значение:  0.0003042766207529531\n",
      "Найдены статистически значимые различия для колонки Fedu\n",
      "Пара:  (4.0, 1.0) , значение:  0.0032509610703755198\n",
      "Найдены статистически значимые различия для колонки studytime\n",
      "Пара:  (2.0, 3.0) , значение:  0.0023278700393501274\n",
      "Найдены статистически значимые различия для колонки goout\n",
      "Пара:  (4.0, 2.0) , значение:  0.0030448019489228966\n"
     ]
    }
   ],
   "source": [
    "for col in list_to_analyze:\n",
    "     get_stat_dif(col)"
   ]
  },
  {
   "cell_type": "markdown",
   "metadata": {},
   "source": [
    "Подробнее изучим параметры со статистически значимыми различиями"
   ]
  },
  {
   "cell_type": "code",
   "execution_count": 30,
   "metadata": {},
   "outputs": [],
   "source": [
    "list_to_analyze = ['address', 'Mjob', 'Fjob', 'schoolsup', 'Medu', 'Fedu', 'studytime', 'goout']"
   ]
  },
  {
   "cell_type": "code",
   "execution_count": 31,
   "metadata": {},
   "outputs": [
    {
     "data": {
      "text/plain": [
       "<seaborn.axisgrid.PairGrid at 0x220a4c8f0c8>"
      ]
     },
     "execution_count": 31,
     "metadata": {},
     "output_type": "execute_result"
    },
    {
     "data": {
      "image/png": "[encoded data removed]",
      "text/plain": [
       "<Figure size 720x720 with 20 Axes>"
      ]
     },
     "metadata": {
      "needs_background": "light"
     },
     "output_type": "display_data"
    }
   ],
   "source": [
    "sns.pairplot(stud_math[list_to_analyze], kind='reg')"
   ]
  },
  {
   "cell_type": "markdown",
   "metadata": {},
   "source": [
    "Корреляция показателей \"Medu\" и \"Fedu\" достаточно высокая. Попробуем создать единый интегральный показатель."
   ]
  },
  {
   "cell_type": "code",
   "execution_count": 32,
   "metadata": {},
   "outputs": [],
   "source": [
    "# Возьмем максимальный уровень образования родителей в семье\n",
    "stud_math['edu_max'] = stud_math[['Medu', 'Fedu']].max(axis=1)"
   ]
  },
  {
   "cell_type": "code",
   "execution_count": 33,
   "metadata": {},
   "outputs": [
    {
     "data": {
      "text/html": [
       "<div>\n",
       "<style scoped>\n",
       "    .dataframe tbody tr th:only-of-type {\n",
       "        vertical-align: middle;\n",
       "    }\n",
       "\n",
       "    .dataframe tbody tr th {\n",
       "        vertical-align: top;\n",
       "    }\n",
       "\n",
       "    .dataframe thead th {\n",
       "        text-align: right;\n",
       "    }\n",
       "</style>\n",
       "<table border=\"1\" class=\"dataframe\">\n",
       "  <thead>\n",
       "    <tr style=\"text-align: right;\">\n",
       "      <th></th>\n",
       "      <th>Medu</th>\n",
       "      <th>Fedu</th>\n",
       "      <th>edu_max</th>\n",
       "    </tr>\n",
       "  </thead>\n",
       "  <tbody>\n",
       "    <tr>\n",
       "      <th>Medu</th>\n",
       "      <td>1.000000</td>\n",
       "      <td>0.606270</td>\n",
       "      <td>0.888493</td>\n",
       "    </tr>\n",
       "    <tr>\n",
       "      <th>Fedu</th>\n",
       "      <td>0.606270</td>\n",
       "      <td>1.000000</td>\n",
       "      <td>0.786255</td>\n",
       "    </tr>\n",
       "    <tr>\n",
       "      <th>edu_max</th>\n",
       "      <td>0.888493</td>\n",
       "      <td>0.786255</td>\n",
       "      <td>1.000000</td>\n",
       "    </tr>\n",
       "  </tbody>\n",
       "</table>\n",
       "</div>"
      ],
      "text/plain": [
       "             Medu      Fedu   edu_max\n",
       "Medu     1.000000  0.606270  0.888493\n",
       "Fedu     0.606270  1.000000  0.786255\n",
       "edu_max  0.888493  0.786255  1.000000"
      ]
     },
     "execution_count": 33,
     "metadata": {},
     "output_type": "execute_result"
    }
   ],
   "source": [
    "# Проверим, как коррелирует новый показатель с двумя исходными\n",
    "stud_math[['Medu', 'Fedu', 'edu_max']].corr()"
   ]
  },
  {
   "cell_type": "markdown",
   "metadata": {},
   "source": [
    "Уровень корреляции очень высок"
   ]
  },
  {
   "cell_type": "code",
   "execution_count": 34,
   "metadata": {},
   "outputs": [
    {
     "name": "stdout",
     "output_type": "stream",
     "text": [
      "Найдены статистически значимые различия для колонки edu_max\n",
      "Пара:  (4.0, 1.0) , значение:  0.0002458315469719384\n",
      "Найдены статистически значимые различия для колонки edu_max\n",
      "Пара:  (4.0, 3.0) , значение:  0.00827395345547404\n"
     ]
    }
   ],
   "source": [
    "# Проверим, сохраняются ли статистически значимые различия для нового показателя\n",
    "get_stat_dif('edu_max')"
   ]
  },
  {
   "cell_type": "markdown",
   "metadata": {},
   "source": [
    "Статистически значимые различия сохраняются"
   ]
  },
  {
   "cell_type": "markdown",
   "metadata": {},
   "source": [
    "Другие кандидаты на объединение - \"Mjob\" и \"Fjob\".\n",
    "Однако, параметры пар со значимыми изменениями этих двух показателей различные: в \"Mjob\" выделяется \"health\", в \"Fjob\" - \"teacher\". Объединить показатель в интегральный не получится."
   ]
  },
  {
   "cell_type": "markdown",
   "metadata": {},
   "source": [
    "Можно предположить, что уровень образования связан с местом работы."
   ]
  },
  {
   "cell_type": "code",
   "execution_count": 35,
   "metadata": {},
   "outputs": [],
   "source": [
    "# Для проверки этой гипотизы модернизируем функцию построения графиков\n",
    "def get_boxplot_detail(column, value):\n",
    "    fig, ax = plt.subplots(figsize=(10, 4))\n",
    "    sns.boxplot(x=column,\n",
    "                y=value,\n",
    "                data=stud_math,\n",
    "                ax=ax)\n",
    "    plt.xticks(rotation=45)\n",
    "    ax.set_title('Boxplot for ' + column)\n",
    "    plt.show()"
   ]
  },
  {
   "cell_type": "code",
   "execution_count": 36,
   "metadata": {},
   "outputs": [
    {
     "data": {
      "image/png": "[encoded data removed]",
      "text/plain": [
       "<Figure size 720x288 with 1 Axes>"
      ]
     },
     "metadata": {
      "needs_background": "light"
     },
     "output_type": "display_data"
    }
   ],
   "source": [
    "get_boxplot_detail('Mjob','edu_max')"
   ]
  },
  {
   "cell_type": "code",
   "execution_count": 37,
   "metadata": {},
   "outputs": [
    {
     "data": {
      "image/png": "[encoded data removed]",
      "text/plain": [
       "<Figure size 720x288 with 1 Axes>"
      ]
     },
     "metadata": {
      "needs_background": "light"
     },
     "output_type": "display_data"
    }
   ],
   "source": [
    "get_boxplot_detail('Fjob','edu_max')"
   ]
  },
  {
   "cell_type": "markdown",
   "metadata": {},
   "source": [
    "Проведем оценку с помощью теста Стьюдента. Для каждого значения переменной проверим, есть ли статистически обоснованные различия. За нулевую гипотизу установим, что распределение уровня образования по месту работы не различимы."
   ]
  },
  {
   "cell_type": "code",
   "execution_count": 38,
   "metadata": {},
   "outputs": [],
   "source": [
    "# Функция поиска для каждой пары параметров не попадания в интервал с достоверностью 95%\n",
    "def get_stat_dif_detail(column, value):\n",
    "    cols = stud_math[column].unique()\n",
    "    combinations_all = list(combinations(cols, 2))\n",
    "    for comb in combinations_all:\n",
    "        ttest_result = ttest_ind(stud_math.loc[stud_math.loc[:, column] == comb[0], value],\n",
    "                                 stud_math.loc[stud_math.loc[:, column] == comb[1], value]).pvalue\n",
    "        if ttest_result <= 0.05/len(combinations_all):  # Учли поправку Бонферони\n",
    "            print('Найдены статистически значимые различия для колонки', column)\n",
    "            print('Пара: ', comb, ', значение: ', ttest_result)"
   ]
  },
  {
   "cell_type": "code",
   "execution_count": 39,
   "metadata": {},
   "outputs": [
    {
     "name": "stdout",
     "output_type": "stream",
     "text": [
      "Найдены статистически значимые различия для колонки Mjob\n",
      "Пара:  ('at_home', 'health') , значение:  2.0513310926268528e-08\n",
      "Найдены статистически значимые различия для колонки Mjob\n",
      "Пара:  ('at_home', 'services') , значение:  2.890270055034613e-06\n",
      "Найдены статистически значимые различия для колонки Mjob\n",
      "Пара:  ('at_home', 'teacher') , значение:  2.439598683156309e-19\n",
      "Найдены статистически значимые различия для колонки Mjob\n",
      "Пара:  ('health', 'other') , значение:  1.384731313035701e-06\n",
      "Найдены статистически значимые различия для колонки Mjob\n",
      "Пара:  ('health', 'services') , значение:  0.00169186584462913\n",
      "Найдены статистически значимые различия для колонки Mjob\n",
      "Пара:  ('other', 'services') , значение:  0.002543848362612714\n",
      "Найдены статистически значимые различия для колонки Mjob\n",
      "Пара:  ('other', 'teacher') , значение:  1.4304996399976264e-16\n",
      "Найдены статистически значимые различия для колонки Mjob\n",
      "Пара:  ('services', 'teacher') , значение:  5.524513381044293e-11\n"
     ]
    }
   ],
   "source": [
    "get_stat_dif_detail('Mjob','edu_max')"
   ]
  },
  {
   "cell_type": "markdown",
   "metadata": {},
   "source": [
    "На основании вышесказанного, можно заключить, что есть зависимость между максимальным уровнем образованием родителей и местом работы матери и отца. Следовательно в модели можем использовать один показатель - максимальный уровень образования родителей."
   ]
  },
  {
   "cell_type": "markdown",
   "metadata": {},
   "source": [
    "# Вывод"
   ]
  },
  {
   "cell_type": "markdown",
   "metadata": {},
   "source": [
    "Таким образом, в качестве параметров модели представляется целесообразным использовать следующие показатели:\n",
    "    - тип адреса ученика (\"address\");\n",
    "    - максимальный уровень образования родителей (интегральный \"Medu\", \"Fedu\")\n",
    "    - дополнительная образовательная поддержка (\"schoolsup\")\n",
    "    - время на учебу помимо школы (\"studytime\")\n",
    "    - проведение времени с друзьями (\"goout\")"
   ]
  }
 ],
 "metadata": {
  "kernelspec": {
   "display_name": "Python 3",
   "language": "python",
   "name": "python3"
  },
  "language_info": {
   "codemirror_mode": {
    "name": "ipython",
    "version": 3
   },
   "file_extension": ".py",
   "mimetype": "text/x-python",
   "name": "python",
   "nbconvert_exporter": "python",
   "pygments_lexer": "ipython3",
   "version": "3.7.6"
  }
 },
 "nbformat": 4,
 "nbformat_minor": 4
}
